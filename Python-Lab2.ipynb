{
 "cells": [
  {
   "cell_type": "code",
   "execution_count": 30,
   "id": "a14a742e",
   "metadata": {},
   "outputs": [],
   "source": [
    "movie = 'Interstellar'\n",
    "rate = 3\n",
    "pop_score = 72.65\n"
   ]
  },
  {
   "cell_type": "code",
   "execution_count": 25,
   "id": "5cce79b9",
   "metadata": {},
   "outputs": [
    {
     "ename": "SyntaxError",
     "evalue": "invalid syntax (3699841506.py, line 1)",
     "output_type": "error",
     "traceback": [
      "\u001b[0;36m  File \u001b[0;32m\"/var/folders/t2/lwg348s91755jjv__0b81p0c0000gn/T/ipykernel_21114/3699841506.py\"\u001b[0;36m, line \u001b[0;32m1\u001b[0m\n\u001b[0;31m    Else the movie rating is 2 or less and the popularity is less than 50, print \"Don't watch it, It is a waste of time\".\u001b[0m\n\u001b[0m         ^\u001b[0m\n\u001b[0;31mSyntaxError\u001b[0m\u001b[0;31m:\u001b[0m invalid syntax\n"
     ]
    }
   ],
   "source": [
    "Else the movie rating is 2 or less and the popularity is less than 50, print \"Don't watch it, It is a waste of time\".\n"
   ]
  },
  {
   "cell_type": "code",
   "execution_count": 31,
   "id": "e56f76cf",
   "metadata": {},
   "outputs": [
    {
     "ename": "SyntaxError",
     "evalue": "invalid syntax (3910400249.py, line 7)",
     "output_type": "error",
     "traceback": [
      "\u001b[0;36m  File \u001b[0;32m\"/var/folders/t2/lwg348s91755jjv__0b81p0c0000gn/T/ipykernel_21114/3910400249.py\"\u001b[0;36m, line \u001b[0;32m7\u001b[0m\n\u001b[0;31m    else rate <= 2 and pop_score < 50:\u001b[0m\n\u001b[0m         ^\u001b[0m\n\u001b[0;31mSyntaxError\u001b[0m\u001b[0;31m:\u001b[0m invalid syntax\n"
     ]
    }
   ],
   "source": [
    "if rate >= 4 and pop_score > 80:\n",
    "    print(\"Highly recommended\")\n",
    "elif rate >= 3 and pop_score > 70:\n",
    "    print(\"I recommended it, It is good\")\n",
    "elif rate <= 2 and pop_score > 60:\n",
    "    print(\"You should check it out!\")\n",
    "else rate <= 2 and pop_score < 50:\n",
    "    print(\"Don't watch it, It is a waste of time\")\n",
    "\n"
   ]
  }
 ],
 "metadata": {
  "kernelspec": {
   "display_name": "Python 3 (ipykernel)",
   "language": "python",
   "name": "python3"
  },
  "language_info": {
   "codemirror_mode": {
    "name": "ipython",
    "version": 3
   },
   "file_extension": ".py",
   "mimetype": "text/x-python",
   "name": "python",
   "nbconvert_exporter": "python",
   "pygments_lexer": "ipython3",
   "version": "3.9.13"
  }
 },
 "nbformat": 4,
 "nbformat_minor": 5
}
